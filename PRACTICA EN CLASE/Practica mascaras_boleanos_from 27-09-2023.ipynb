{
 "cells": [
  {
   "cell_type": "code",
   "execution_count": 2,
   "metadata": {},
   "outputs": [],
   "source": [
    "import numpy as np\n",
    "from glob import glob"
   ]
  },
  {
   "cell_type": "code",
   "execution_count": 3,
   "metadata": {},
   "outputs": [
    {
     "data": {
      "text/plain": [
       "['prueba.csv']"
      ]
     },
     "execution_count": 3,
     "metadata": {},
     "output_type": "execute_result"
    }
   ],
   "source": [
    "glob(\"*.csv\")"
   ]
  },
  {
   "cell_type": "code",
   "execution_count": 4,
   "metadata": {},
   "outputs": [
    {
     "data": {
      "text/plain": [
       "['prueba.csv']"
      ]
     },
     "execution_count": 4,
     "metadata": {},
     "output_type": "execute_result"
    }
   ],
   "source": [
    "lista_archivos = glob('*.csv')\n",
    "lista_archivos "
   ]
  },
  {
   "cell_type": "code",
   "execution_count": 5,
   "metadata": {},
   "outputs": [
    {
     "data": {
      "text/plain": [
       "array([[0., 0., 0., 0., 1., 0., 0., 0., 0.],\n",
       "       [0., 0., 0., 0., 1., 0., 0., 1., 0.],\n",
       "       [0., 0., 0., 0., 0., 0., 0., 0., 0.],\n",
       "       [0., 0., 0., 0., 1., 0., 0., 0., 0.],\n",
       "       [0., 0., 0., 0., 0., 0., 0., 0., 0.],\n",
       "       [0., 0., 0., 0., 0., 0., 0., 0., 0.],\n",
       "       [0., 0., 0., 0., 1., 1., 0., 0., 1.],\n",
       "       [0., 1., 0., 0., 0., 0., 0., 0., 0.],\n",
       "       [1., 0., 0., 0., 0., 0., 0., 0., 0.],\n",
       "       [0., 0., 0., 0., 0., 0., 0., 0., 0.],\n",
       "       [0., 0., 0., 0., 0., 0., 0., 0., 0.],\n",
       "       [0., 0., 0., 0., 0., 0., 0., 0., 0.],\n",
       "       [0., 0., 0., 0., 0., 0., 0., 0., 0.],\n",
       "       [0., 0., 0., 0., 1., 0., 0., 0., 0.],\n",
       "       [0., 0., 0., 0., 0., 0., 0., 0., 0.],\n",
       "       [0., 0., 0., 0., 0., 0., 0., 0., 0.],\n",
       "       [0., 0., 0., 0., 0., 0., 0., 0., 1.],\n",
       "       [0., 1., 0., 0., 0., 0., 0., 0., 0.]])"
      ]
     },
     "execution_count": 5,
     "metadata": {},
     "output_type": "execute_result"
    }
   ],
   "source": [
    "mascara = np.loadtxt('https://raw.githubusercontent.com/laboratoriolide/new-dimensions/bc9b4e8b5544ea5070486443e5474384c166c7dd/Python/mascara.csv',delimiter= ',')\n",
    "mascara"
   ]
  },
  {
   "cell_type": "code",
   "execution_count": 6,
   "metadata": {},
   "outputs": [
    {
     "data": {
      "text/plain": [
       "dtype('float64')"
      ]
     },
     "execution_count": 6,
     "metadata": {},
     "output_type": "execute_result"
    }
   ],
   "source": [
    "mascara.dtype"
   ]
  },
  {
   "cell_type": "code",
   "execution_count": 7,
   "metadata": {},
   "outputs": [],
   "source": [
    "prueba = np.loadtxt (fname= 'https://raw.githubusercontent.com/laboratoriolide/new-dimensions/main/Python/prueba.csv',delimiter=',')"
   ]
  },
  {
   "cell_type": "code",
   "execution_count": 8,
   "metadata": {},
   "outputs": [
    {
     "name": "stdout",
     "output_type": "stream",
     "text": [
      "[[11.  0. 19.  8. 10.  5.  6.  5.  1.]\n",
      " [ 9. 17.  1. 13. 10. 20. 15. 10. 19.]\n",
      " [14.  4. 17. 13.  4. 20. 19.  4. 17.]\n",
      " [ 8.  8. 16.  9. 10. 20. 12.  1. 19.]\n",
      " [13. 11. 20.  1. 14.  9. 12. 16.  1.]\n",
      " [ 2.  5. 20.  5. 14.  8. 11. 15.  1.]\n",
      " [19. 14. 17. 12. 10. 10. 19. 18. 10.]\n",
      " [13. 10. 14. 13.  7. 14.  4.  2. 14.]\n",
      " [10.  6. 17.  1.  0.  3. 16. 16.  8.]\n",
      " [15. 11. 16. 16. 14. 17. 17. 12.  3.]\n",
      " [12. 15. 16.  3.  9. 12. 15.  3. 20.]\n",
      " [17. 18.  4.  6.  3. 14. 18. 16. 17.]\n",
      " [ 2.  3. 11.  0.  5. 20. 16.  4.  8.]\n",
      " [16.  7. 13. 20. 10.  1.  8. 17.  1.]\n",
      " [ 6. 18.  8. 15. 14.  4.  7. 11.  2.]\n",
      " [ 0.  6.  7. 20.  9.  9.  4. 14. 13.]\n",
      " [18.  7.  7. 18. 16.  0.  4. 16. 10.]\n",
      " [18. 10. 13.  2.  1. 11. 18.  1.  9.]]\n"
     ]
    }
   ],
   "source": [
    "print(prueba)"
   ]
  },
  {
   "cell_type": "code",
   "execution_count": 9,
   "metadata": {},
   "outputs": [],
   "source": [
    "#prueba[mascara] \n",
    "mascara=mascara.astype(\"bool\")"
   ]
  },
  {
   "cell_type": "code",
   "execution_count": 10,
   "metadata": {},
   "outputs": [
    {
     "data": {
      "text/plain": [
       "array([10., 10., 10., 10., 10., 10., 10., 10., 10., 10., 10., 10.])"
      ]
     },
     "execution_count": 10,
     "metadata": {},
     "output_type": "execute_result"
    }
   ],
   "source": [
    "prueba[mascara == 1]"
   ]
  },
  {
   "cell_type": "code",
   "execution_count": 11,
   "metadata": {},
   "outputs": [
    {
     "data": {
      "text/plain": [
       "array([[False, False, False, False,  True, False, False, False, False],\n",
       "       [False, False, False, False,  True, False, False,  True, False],\n",
       "       [False, False, False, False, False, False, False, False, False],\n",
       "       [False, False, False, False,  True, False, False, False, False],\n",
       "       [False, False, False, False, False, False, False, False, False],\n",
       "       [False, False, False, False, False, False, False, False, False],\n",
       "       [False, False, False, False,  True,  True, False, False,  True],\n",
       "       [False,  True, False, False, False, False, False, False, False],\n",
       "       [ True, False, False, False, False, False, False, False, False],\n",
       "       [False, False, False, False, False, False, False, False, False],\n",
       "       [False, False, False, False, False, False, False, False, False],\n",
       "       [False, False, False, False, False, False, False, False, False],\n",
       "       [False, False, False, False, False, False, False, False, False],\n",
       "       [False, False, False, False,  True, False, False, False, False],\n",
       "       [False, False, False, False, False, False, False, False, False],\n",
       "       [False, False, False, False, False, False, False, False, False],\n",
       "       [False, False, False, False, False, False, False, False,  True],\n",
       "       [False,  True, False, False, False, False, False, False, False]])"
      ]
     },
     "execution_count": 11,
     "metadata": {},
     "output_type": "execute_result"
    }
   ],
   "source": [
    "mascara == 1"
   ]
  },
  {
   "cell_type": "code",
   "execution_count": 12,
   "metadata": {},
   "outputs": [
    {
     "data": {
      "text/plain": [
       "array([[11.,  0., 19.,  8., 11.,  5.,  6.,  5.,  1.],\n",
       "       [ 9., 17.,  1., 13., 11., 20., 15., 11., 19.],\n",
       "       [14.,  4., 17., 13.,  4., 20., 19.,  4., 17.],\n",
       "       [ 8.,  8., 16.,  9., 11., 20., 12.,  1., 19.],\n",
       "       [13., 11., 20.,  1., 14.,  9., 12., 16.,  1.],\n",
       "       [ 2.,  5., 20.,  5., 14.,  8., 11., 15.,  1.],\n",
       "       [19., 14., 17., 12., 11., 11., 19., 18., 11.],\n",
       "       [13., 11., 14., 13.,  7., 14.,  4.,  2., 14.],\n",
       "       [11.,  6., 17.,  1.,  0.,  3., 16., 16.,  8.],\n",
       "       [15., 11., 16., 16., 14., 17., 17., 12.,  3.],\n",
       "       [12., 15., 16.,  3.,  9., 12., 15.,  3., 20.],\n",
       "       [17., 18.,  4.,  6.,  3., 14., 18., 16., 17.],\n",
       "       [ 2.,  3., 11.,  0.,  5., 20., 16.,  4.,  8.],\n",
       "       [16.,  7., 13., 20., 11.,  1.,  8., 17.,  1.],\n",
       "       [ 6., 18.,  8., 15., 14.,  4.,  7., 11.,  2.],\n",
       "       [ 0.,  6.,  7., 20.,  9.,  9.,  4., 14., 13.],\n",
       "       [18.,  7.,  7., 18., 16.,  0.,  4., 16., 11.],\n",
       "       [18., 11., 13.,  2.,  1., 11., 18.,  1.,  9.]])"
      ]
     },
     "execution_count": 12,
     "metadata": {},
     "output_type": "execute_result"
    }
   ],
   "source": [
    "prueba+mascara"
   ]
  },
  {
   "cell_type": "code",
   "execution_count": 13,
   "metadata": {},
   "outputs": [
    {
     "data": {
      "text/plain": [
       "array([[ 11.,   0.,  19.,   8., 100.,   5.,   6.,   5.,   1.],\n",
       "       [  9.,  17.,   1.,  13., 100.,  20.,  15., 100.,  19.],\n",
       "       [ 14.,   4.,  17.,  13.,   4.,  20.,  19.,   4.,  17.],\n",
       "       [  8.,   8.,  16.,   9., 100.,  20.,  12.,   1.,  19.],\n",
       "       [ 13.,  11.,  20.,   1.,  14.,   9.,  12.,  16.,   1.],\n",
       "       [  2.,   5.,  20.,   5.,  14.,   8.,  11.,  15.,   1.],\n",
       "       [ 19.,  14.,  17.,  12., 100., 100.,  19.,  18., 100.],\n",
       "       [ 13., 100.,  14.,  13.,   7.,  14.,   4.,   2.,  14.],\n",
       "       [100.,   6.,  17.,   1.,   0.,   3.,  16.,  16.,   8.],\n",
       "       [ 15.,  11.,  16.,  16.,  14.,  17.,  17.,  12.,   3.],\n",
       "       [ 12.,  15.,  16.,   3.,   9.,  12.,  15.,   3.,  20.],\n",
       "       [ 17.,  18.,   4.,   6.,   3.,  14.,  18.,  16.,  17.],\n",
       "       [  2.,   3.,  11.,   0.,   5.,  20.,  16.,   4.,   8.],\n",
       "       [ 16.,   7.,  13.,  20., 100.,   1.,   8.,  17.,   1.],\n",
       "       [  6.,  18.,   8.,  15.,  14.,   4.,   7.,  11.,   2.],\n",
       "       [  0.,   6.,   7.,  20.,   9.,   9.,   4.,  14.,  13.],\n",
       "       [ 18.,   7.,   7.,  18.,  16.,   0.,   4.,  16., 100.],\n",
       "       [ 18., 100.,  13.,   2.,   1.,  11.,  18.,   1.,   9.]])"
      ]
     },
     "execution_count": 13,
     "metadata": {},
     "output_type": "execute_result"
    }
   ],
   "source": [
    "prueba[mascara] = prueba[mascara]*10\n",
    "prueba"
   ]
  },
  {
   "cell_type": "code",
   "execution_count": 14,
   "metadata": {},
   "outputs": [],
   "source": [
    "mascara2 = prueba < 3\n",
    "prueba[mascara2] = 0"
   ]
  },
  {
   "cell_type": "code",
   "execution_count": 15,
   "metadata": {},
   "outputs": [],
   "source": [
    "mascara2 = prueba < 3\n",
    "prueba[mascara2] = 1000"
   ]
  },
  {
   "cell_type": "code",
   "execution_count": 16,
   "metadata": {},
   "outputs": [
    {
     "data": {
      "text/plain": [
       "array([[  11., 1000.,   19.,    8.,  100.,    5.,    6.,    5., 1000.],\n",
       "       [   9.,   17., 1000.,   13.,  100.,   20.,   15.,  100.,   19.],\n",
       "       [  14.,    4.,   17.,   13.,    4.,   20.,   19.,    4.,   17.],\n",
       "       [   8.,    8.,   16.,    9.,  100.,   20.,   12., 1000.,   19.],\n",
       "       [  13.,   11.,   20., 1000.,   14.,    9.,   12.,   16., 1000.],\n",
       "       [1000.,    5.,   20.,    5.,   14.,    8.,   11.,   15., 1000.],\n",
       "       [  19.,   14.,   17.,   12.,  100.,  100.,   19.,   18.,  100.],\n",
       "       [  13.,  100.,   14.,   13.,    7.,   14.,    4., 1000.,   14.],\n",
       "       [ 100.,    6.,   17., 1000., 1000.,    3.,   16.,   16.,    8.],\n",
       "       [  15.,   11.,   16.,   16.,   14.,   17.,   17.,   12.,    3.],\n",
       "       [  12.,   15.,   16.,    3.,    9.,   12.,   15.,    3.,   20.],\n",
       "       [  17.,   18.,    4.,    6.,    3.,   14.,   18.,   16.,   17.],\n",
       "       [1000.,    3.,   11., 1000.,    5.,   20.,   16.,    4.,    8.],\n",
       "       [  16.,    7.,   13.,   20.,  100., 1000.,    8.,   17., 1000.],\n",
       "       [   6.,   18.,    8.,   15.,   14.,    4.,    7.,   11., 1000.],\n",
       "       [1000.,    6.,    7.,   20.,    9.,    9.,    4.,   14.,   13.],\n",
       "       [  18.,    7.,    7.,   18.,   16., 1000.,    4.,   16.,  100.],\n",
       "       [  18.,  100.,   13., 1000., 1000.,   11.,   18., 1000.,    9.]])"
      ]
     },
     "execution_count": 16,
     "metadata": {},
     "output_type": "execute_result"
    }
   ],
   "source": [
    "prueba"
   ]
  },
  {
   "cell_type": "code",
   "execution_count": 17,
   "metadata": {},
   "outputs": [
    {
     "data": {
      "text/plain": [
       "100.0"
      ]
     },
     "execution_count": 17,
     "metadata": {},
     "output_type": "execute_result"
    }
   ],
   "source": [
    "np.mean(prueba[mascara])"
   ]
  },
  {
   "cell_type": "code",
   "execution_count": 18,
   "metadata": {},
   "outputs": [
    {
     "data": {
      "text/plain": [
       "(18, 9)"
      ]
     },
     "execution_count": 18,
     "metadata": {},
     "output_type": "execute_result"
    }
   ],
   "source": [
    "prueba.shape"
   ]
  },
  {
   "cell_type": "code",
   "execution_count": 19,
   "metadata": {},
   "outputs": [],
   "source": [
    "resultado = prueba+mascara"
   ]
  },
  {
   "cell_type": "code",
   "execution_count": 20,
   "metadata": {},
   "outputs": [],
   "source": [
    "np.savetxt(\"prueba.csv\", resultado,delimiter=',')"
   ]
  },
  {
   "cell_type": "code",
   "execution_count": 21,
   "metadata": {},
   "outputs": [
    {
     "data": {
      "text/plain": [
       "array([[  11., 1000.,   19.,    8.,  101.,    5.,    6.,    5., 1000.],\n",
       "       [   9.,   17., 1000.,   13.,  101.,   20.,   15.,  101.,   19.],\n",
       "       [  14.,    4.,   17.,   13.,    4.,   20.,   19.,    4.,   17.],\n",
       "       [   8.,    8.,   16.,    9.,  101.,   20.,   12., 1000.,   19.],\n",
       "       [  13.,   11.,   20., 1000.,   14.,    9.,   12.,   16., 1000.],\n",
       "       [1000.,    5.,   20.,    5.,   14.,    8.,   11.,   15., 1000.],\n",
       "       [  19.,   14.,   17.,   12.,  101.,  101.,   19.,   18.,  101.],\n",
       "       [  13.,  101.,   14.,   13.,    7.,   14.,    4., 1000.,   14.],\n",
       "       [ 101.,    6.,   17., 1000., 1000.,    3.,   16.,   16.,    8.],\n",
       "       [  15.,   11.,   16.,   16.,   14.,   17.,   17.,   12.,    3.],\n",
       "       [  12.,   15.,   16.,    3.,    9.,   12.,   15.,    3.,   20.],\n",
       "       [  17.,   18.,    4.,    6.,    3.,   14.,   18.,   16.,   17.],\n",
       "       [1000.,    3.,   11., 1000.,    5.,   20.,   16.,    4.,    8.],\n",
       "       [  16.,    7.,   13.,   20.,  101., 1000.,    8.,   17., 1000.],\n",
       "       [   6.,   18.,    8.,   15.,   14.,    4.,    7.,   11., 1000.],\n",
       "       [1000.,    6.,    7.,   20.,    9.,    9.,    4.,   14.,   13.],\n",
       "       [  18.,    7.,    7.,   18.,   16., 1000.,    4.,   16.,  101.],\n",
       "       [  18.,  101.,   13., 1000., 1000.,   11.,   18., 1000.,    9.]])"
      ]
     },
     "execution_count": 21,
     "metadata": {},
     "output_type": "execute_result"
    }
   ],
   "source": [
    "revision = np.loadtxt(\"prueba.csv\", delimiter=',')\n",
    "revision"
   ]
  }
 ],
 "metadata": {
  "kernelspec": {
   "display_name": "deberes",
   "language": "python",
   "name": "python3"
  },
  "language_info": {
   "codemirror_mode": {
    "name": "ipython",
    "version": 3
   },
   "file_extension": ".py",
   "mimetype": "text/x-python",
   "name": "python",
   "nbconvert_exporter": "python",
   "pygments_lexer": "ipython3",
   "version": "3.11.5"
  },
  "orig_nbformat": 4
 },
 "nbformat": 4,
 "nbformat_minor": 2
}
