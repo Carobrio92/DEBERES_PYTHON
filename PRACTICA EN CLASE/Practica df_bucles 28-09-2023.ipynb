{
 "cells": [
  {
   "cell_type": "code",
   "execution_count": 4,
   "metadata": {},
   "outputs": [],
   "source": [
    "import numpy as np"
   ]
  },
  {
   "cell_type": "code",
   "execution_count": 7,
   "metadata": {},
   "outputs": [
    {
     "data": {
      "text/plain": [
       "array([[  11., 1000.,   19.,    8.,  101.,    5.,    6.,    5., 1000.],\n",
       "       [   9.,   17., 1000.,   13.,  101.,   20.,   15.,  101.,   19.],\n",
       "       [  14.,    4.,   17.,   13.,    4.,   20.,   19.,    4.,   17.],\n",
       "       [   8.,    8.,   16.,    9.,  101.,   20.,   12., 1000.,   19.],\n",
       "       [  13.,   11.,   20., 1000.,   14.,    9.,   12.,   16., 1000.],\n",
       "       [1000.,    5.,   20.,    5.,   14.,    8.,   11.,   15., 1000.],\n",
       "       [  19.,   14.,   17.,   12.,  101.,  101.,   19.,   18.,  101.],\n",
       "       [  13.,  101.,   14.,   13.,    7.,   14.,    4., 1000.,   14.],\n",
       "       [ 101.,    6.,   17., 1000., 1000.,    3.,   16.,   16.,    8.],\n",
       "       [  15.,   11.,   16.,   16.,   14.,   17.,   17.,   12.,    3.],\n",
       "       [  12.,   15.,   16.,    3.,    9.,   12.,   15.,    3.,   20.],\n",
       "       [  17.,   18.,    4.,    6.,    3.,   14.,   18.,   16.,   17.],\n",
       "       [1000.,    3.,   11., 1000.,    5.,   20.,   16.,    4.,    8.],\n",
       "       [  16.,    7.,   13.,   20.,  101., 1000.,    8.,   17., 1000.],\n",
       "       [   6.,   18.,    8.,   15.,   14.,    4.,    7.,   11., 1000.],\n",
       "       [1000.,    6.,    7.,   20.,    9.,    9.,    4.,   14.,   13.],\n",
       "       [  18.,    7.,    7.,   18.,   16., 1000.,    4.,   16.,  101.],\n",
       "       [  18.,  101.,   13., 1000., 1000.,   11.,   18., 1000.,    9.]])"
      ]
     },
     "execution_count": 7,
     "metadata": {},
     "output_type": "execute_result"
    }
   ],
   "source": [
    "array = np.loadtxt('prueba.csv', delimiter= ',')\n",
    "array"
   ]
  },
  {
   "cell_type": "code",
   "execution_count": 8,
   "metadata": {},
   "outputs": [
    {
     "data": {
      "text/plain": [
       "array([[  22., 2000.,   38.,   16.,  202.,   10.,   12.,   10., 2000.],\n",
       "       [  18.,   34., 2000.,   26.,  202.,   40.,   30.,  202.,   38.],\n",
       "       [  28.,    8.,   34.,   26.,    8.,   40.,   38.,    8.,   34.],\n",
       "       [  16.,   16.,   32.,   18.,  202.,   40.,   24., 2000.,   38.],\n",
       "       [  26.,   22.,   40., 2000.,   28.,   18.,   24.,   32., 2000.],\n",
       "       [2000.,   10.,   40.,   10.,   28.,   16.,   22.,   30., 2000.],\n",
       "       [  38.,   28.,   34.,   24.,  202.,  202.,   38.,   36.,  202.],\n",
       "       [  26.,  202.,   28.,   26.,   14.,   28.,    8., 2000.,   28.],\n",
       "       [ 202.,   12.,   34., 2000., 2000.,    6.,   32.,   32.,   16.],\n",
       "       [  30.,   22.,   32.,   32.,   28.,   34.,   34.,   24.,    6.],\n",
       "       [  24.,   30.,   32.,    6.,   18.,   24.,   30.,    6.,   40.],\n",
       "       [  34.,   36.,    8.,   12.,    6.,   28.,   36.,   32.,   34.],\n",
       "       [2000.,    6.,   22., 2000.,   10.,   40.,   32.,    8.,   16.],\n",
       "       [  32.,   14.,   26.,   40.,  202., 2000.,   16.,   34., 2000.],\n",
       "       [  12.,   36.,   16.,   30.,   28.,    8.,   14.,   22., 2000.],\n",
       "       [2000.,   12.,   14.,   40.,   18.,   18.,    8.,   28.,   26.],\n",
       "       [  36.,   14.,   14.,   36.,   32., 2000.,    8.,   32.,  202.],\n",
       "       [  36.,  202.,   26., 2000., 2000.,   22.,   36., 2000.,   18.]])"
      ]
     },
     "execution_count": 8,
     "metadata": {},
     "output_type": "execute_result"
    }
   ],
   "source": [
    "array = array*2\n",
    "array"
   ]
  },
  {
   "cell_type": "code",
   "execution_count": 9,
   "metadata": {},
   "outputs": [],
   "source": [
    "np.savetxt('prueba3.csv', array, delimiter=',')"
   ]
  },
  {
   "cell_type": "code",
   "execution_count": 11,
   "metadata": {},
   "outputs": [],
   "source": [
    "import pandas as pd"
   ]
  },
  {
   "cell_type": "code",
   "execution_count": 12,
   "metadata": {},
   "outputs": [
    {
     "data": {
      "text/html": [
       "<div>\n",
       "<style scoped>\n",
       "    .dataframe tbody tr th:only-of-type {\n",
       "        vertical-align: middle;\n",
       "    }\n",
       "\n",
       "    .dataframe tbody tr th {\n",
       "        vertical-align: top;\n",
       "    }\n",
       "\n",
       "    .dataframe thead th {\n",
       "        text-align: right;\n",
       "    }\n",
       "</style>\n",
       "<table border=\"1\" class=\"dataframe\">\n",
       "  <thead>\n",
       "    <tr style=\"text-align: right;\">\n",
       "      <th></th>\n",
       "      <th>0</th>\n",
       "      <th>1</th>\n",
       "      <th>2</th>\n",
       "      <th>3</th>\n",
       "      <th>4</th>\n",
       "      <th>5</th>\n",
       "      <th>6</th>\n",
       "      <th>7</th>\n",
       "      <th>8</th>\n",
       "    </tr>\n",
       "  </thead>\n",
       "  <tbody>\n",
       "    <tr>\n",
       "      <th>0</th>\n",
       "      <td>22.0</td>\n",
       "      <td>2000.0</td>\n",
       "      <td>38.0</td>\n",
       "      <td>16.0</td>\n",
       "      <td>202.0</td>\n",
       "      <td>10.0</td>\n",
       "      <td>12.0</td>\n",
       "      <td>10.0</td>\n",
       "      <td>2000.0</td>\n",
       "    </tr>\n",
       "    <tr>\n",
       "      <th>1</th>\n",
       "      <td>18.0</td>\n",
       "      <td>34.0</td>\n",
       "      <td>2000.0</td>\n",
       "      <td>26.0</td>\n",
       "      <td>202.0</td>\n",
       "      <td>40.0</td>\n",
       "      <td>30.0</td>\n",
       "      <td>202.0</td>\n",
       "      <td>38.0</td>\n",
       "    </tr>\n",
       "    <tr>\n",
       "      <th>2</th>\n",
       "      <td>28.0</td>\n",
       "      <td>8.0</td>\n",
       "      <td>34.0</td>\n",
       "      <td>26.0</td>\n",
       "      <td>8.0</td>\n",
       "      <td>40.0</td>\n",
       "      <td>38.0</td>\n",
       "      <td>8.0</td>\n",
       "      <td>34.0</td>\n",
       "    </tr>\n",
       "    <tr>\n",
       "      <th>3</th>\n",
       "      <td>16.0</td>\n",
       "      <td>16.0</td>\n",
       "      <td>32.0</td>\n",
       "      <td>18.0</td>\n",
       "      <td>202.0</td>\n",
       "      <td>40.0</td>\n",
       "      <td>24.0</td>\n",
       "      <td>2000.0</td>\n",
       "      <td>38.0</td>\n",
       "    </tr>\n",
       "    <tr>\n",
       "      <th>4</th>\n",
       "      <td>26.0</td>\n",
       "      <td>22.0</td>\n",
       "      <td>40.0</td>\n",
       "      <td>2000.0</td>\n",
       "      <td>28.0</td>\n",
       "      <td>18.0</td>\n",
       "      <td>24.0</td>\n",
       "      <td>32.0</td>\n",
       "      <td>2000.0</td>\n",
       "    </tr>\n",
       "    <tr>\n",
       "      <th>5</th>\n",
       "      <td>2000.0</td>\n",
       "      <td>10.0</td>\n",
       "      <td>40.0</td>\n",
       "      <td>10.0</td>\n",
       "      <td>28.0</td>\n",
       "      <td>16.0</td>\n",
       "      <td>22.0</td>\n",
       "      <td>30.0</td>\n",
       "      <td>2000.0</td>\n",
       "    </tr>\n",
       "    <tr>\n",
       "      <th>6</th>\n",
       "      <td>38.0</td>\n",
       "      <td>28.0</td>\n",
       "      <td>34.0</td>\n",
       "      <td>24.0</td>\n",
       "      <td>202.0</td>\n",
       "      <td>202.0</td>\n",
       "      <td>38.0</td>\n",
       "      <td>36.0</td>\n",
       "      <td>202.0</td>\n",
       "    </tr>\n",
       "    <tr>\n",
       "      <th>7</th>\n",
       "      <td>26.0</td>\n",
       "      <td>202.0</td>\n",
       "      <td>28.0</td>\n",
       "      <td>26.0</td>\n",
       "      <td>14.0</td>\n",
       "      <td>28.0</td>\n",
       "      <td>8.0</td>\n",
       "      <td>2000.0</td>\n",
       "      <td>28.0</td>\n",
       "    </tr>\n",
       "    <tr>\n",
       "      <th>8</th>\n",
       "      <td>202.0</td>\n",
       "      <td>12.0</td>\n",
       "      <td>34.0</td>\n",
       "      <td>2000.0</td>\n",
       "      <td>2000.0</td>\n",
       "      <td>6.0</td>\n",
       "      <td>32.0</td>\n",
       "      <td>32.0</td>\n",
       "      <td>16.0</td>\n",
       "    </tr>\n",
       "    <tr>\n",
       "      <th>9</th>\n",
       "      <td>30.0</td>\n",
       "      <td>22.0</td>\n",
       "      <td>32.0</td>\n",
       "      <td>32.0</td>\n",
       "      <td>28.0</td>\n",
       "      <td>34.0</td>\n",
       "      <td>34.0</td>\n",
       "      <td>24.0</td>\n",
       "      <td>6.0</td>\n",
       "    </tr>\n",
       "    <tr>\n",
       "      <th>10</th>\n",
       "      <td>24.0</td>\n",
       "      <td>30.0</td>\n",
       "      <td>32.0</td>\n",
       "      <td>6.0</td>\n",
       "      <td>18.0</td>\n",
       "      <td>24.0</td>\n",
       "      <td>30.0</td>\n",
       "      <td>6.0</td>\n",
       "      <td>40.0</td>\n",
       "    </tr>\n",
       "    <tr>\n",
       "      <th>11</th>\n",
       "      <td>34.0</td>\n",
       "      <td>36.0</td>\n",
       "      <td>8.0</td>\n",
       "      <td>12.0</td>\n",
       "      <td>6.0</td>\n",
       "      <td>28.0</td>\n",
       "      <td>36.0</td>\n",
       "      <td>32.0</td>\n",
       "      <td>34.0</td>\n",
       "    </tr>\n",
       "    <tr>\n",
       "      <th>12</th>\n",
       "      <td>2000.0</td>\n",
       "      <td>6.0</td>\n",
       "      <td>22.0</td>\n",
       "      <td>2000.0</td>\n",
       "      <td>10.0</td>\n",
       "      <td>40.0</td>\n",
       "      <td>32.0</td>\n",
       "      <td>8.0</td>\n",
       "      <td>16.0</td>\n",
       "    </tr>\n",
       "    <tr>\n",
       "      <th>13</th>\n",
       "      <td>32.0</td>\n",
       "      <td>14.0</td>\n",
       "      <td>26.0</td>\n",
       "      <td>40.0</td>\n",
       "      <td>202.0</td>\n",
       "      <td>2000.0</td>\n",
       "      <td>16.0</td>\n",
       "      <td>34.0</td>\n",
       "      <td>2000.0</td>\n",
       "    </tr>\n",
       "    <tr>\n",
       "      <th>14</th>\n",
       "      <td>12.0</td>\n",
       "      <td>36.0</td>\n",
       "      <td>16.0</td>\n",
       "      <td>30.0</td>\n",
       "      <td>28.0</td>\n",
       "      <td>8.0</td>\n",
       "      <td>14.0</td>\n",
       "      <td>22.0</td>\n",
       "      <td>2000.0</td>\n",
       "    </tr>\n",
       "    <tr>\n",
       "      <th>15</th>\n",
       "      <td>2000.0</td>\n",
       "      <td>12.0</td>\n",
       "      <td>14.0</td>\n",
       "      <td>40.0</td>\n",
       "      <td>18.0</td>\n",
       "      <td>18.0</td>\n",
       "      <td>8.0</td>\n",
       "      <td>28.0</td>\n",
       "      <td>26.0</td>\n",
       "    </tr>\n",
       "    <tr>\n",
       "      <th>16</th>\n",
       "      <td>36.0</td>\n",
       "      <td>14.0</td>\n",
       "      <td>14.0</td>\n",
       "      <td>36.0</td>\n",
       "      <td>32.0</td>\n",
       "      <td>2000.0</td>\n",
       "      <td>8.0</td>\n",
       "      <td>32.0</td>\n",
       "      <td>202.0</td>\n",
       "    </tr>\n",
       "    <tr>\n",
       "      <th>17</th>\n",
       "      <td>36.0</td>\n",
       "      <td>202.0</td>\n",
       "      <td>26.0</td>\n",
       "      <td>2000.0</td>\n",
       "      <td>2000.0</td>\n",
       "      <td>22.0</td>\n",
       "      <td>36.0</td>\n",
       "      <td>2000.0</td>\n",
       "      <td>18.0</td>\n",
       "    </tr>\n",
       "  </tbody>\n",
       "</table>\n",
       "</div>"
      ],
      "text/plain": [
       "         0       1       2       3       4       5     6       7       8\n",
       "0     22.0  2000.0    38.0    16.0   202.0    10.0  12.0    10.0  2000.0\n",
       "1     18.0    34.0  2000.0    26.0   202.0    40.0  30.0   202.0    38.0\n",
       "2     28.0     8.0    34.0    26.0     8.0    40.0  38.0     8.0    34.0\n",
       "3     16.0    16.0    32.0    18.0   202.0    40.0  24.0  2000.0    38.0\n",
       "4     26.0    22.0    40.0  2000.0    28.0    18.0  24.0    32.0  2000.0\n",
       "5   2000.0    10.0    40.0    10.0    28.0    16.0  22.0    30.0  2000.0\n",
       "6     38.0    28.0    34.0    24.0   202.0   202.0  38.0    36.0   202.0\n",
       "7     26.0   202.0    28.0    26.0    14.0    28.0   8.0  2000.0    28.0\n",
       "8    202.0    12.0    34.0  2000.0  2000.0     6.0  32.0    32.0    16.0\n",
       "9     30.0    22.0    32.0    32.0    28.0    34.0  34.0    24.0     6.0\n",
       "10    24.0    30.0    32.0     6.0    18.0    24.0  30.0     6.0    40.0\n",
       "11    34.0    36.0     8.0    12.0     6.0    28.0  36.0    32.0    34.0\n",
       "12  2000.0     6.0    22.0  2000.0    10.0    40.0  32.0     8.0    16.0\n",
       "13    32.0    14.0    26.0    40.0   202.0  2000.0  16.0    34.0  2000.0\n",
       "14    12.0    36.0    16.0    30.0    28.0     8.0  14.0    22.0  2000.0\n",
       "15  2000.0    12.0    14.0    40.0    18.0    18.0   8.0    28.0    26.0\n",
       "16    36.0    14.0    14.0    36.0    32.0  2000.0   8.0    32.0   202.0\n",
       "17    36.0   202.0    26.0  2000.0  2000.0    22.0  36.0  2000.0    18.0"
      ]
     },
     "execution_count": 12,
     "metadata": {},
     "output_type": "execute_result"
    }
   ],
   "source": [
    "df = pd.DataFrame(array)\n",
    "df"
   ]
  },
  {
   "cell_type": "code",
   "execution_count": 16,
   "metadata": {},
   "outputs": [],
   "source": [
    "import openpyxl\n",
    "df.to_excel('prueba.xlsx')"
   ]
  },
  {
   "cell_type": "code",
   "execution_count": 17,
   "metadata": {},
   "outputs": [
    {
     "data": {
      "text/plain": [
       "array([['\\ufeffNombre', 'Edad', 'Peso_kg', 'Altura_m'],\n",
       "       ['Ana', '33', '60', '1.6'],\n",
       "       ['Manuel', '38', '80', '1.82'],\n",
       "       ['Daniela', '29', '70', '1.54'],\n",
       "       ['Jose', '25', '100', '1.7'],\n",
       "       ['Sara', '40', '95', '1.75']], dtype='<U8')"
      ]
     },
     "execution_count": 17,
     "metadata": {},
     "output_type": "execute_result"
    }
   ],
   "source": [
    "prueba2 = np.loadtxt('https://raw.githubusercontent.com/laboratoriolide/new-dimensions/main/Python/prueba2.csv',delimiter=',',dtype='str')\n",
    "prueba2"
   ]
  },
  {
   "cell_type": "code",
   "execution_count": 24,
   "metadata": {},
   "outputs": [
    {
     "data": {
      "text/plain": [
       "array([['Ana', '33', '60', '1.6'],\n",
       "       ['Manuel', '38', '80', '1.82'],\n",
       "       ['Daniela', '29', '70', '1.54'],\n",
       "       ['Jose', '25', '100', '1.7'],\n",
       "       ['Sara', '40', '95', '1.75']], dtype='<U7')"
      ]
     },
     "execution_count": 24,
     "metadata": {},
     "output_type": "execute_result"
    }
   ],
   "source": [
    "prueba2= np.loadtxt('https://raw.githubusercontent.com/laboratoriolide/new-dimensions/main/Python/prueba2.csv',delimiter=',',skiprows= 1, dtype='str')\n",
    "prueba2"
   ]
  },
  {
   "cell_type": "code",
   "execution_count": 19,
   "metadata": {},
   "outputs": [
    {
     "data": {
      "text/plain": [
       "array(['\\ufeffNombre', 'Edad', 'Peso_kg', 'Altura_m'], dtype='<U8')"
      ]
     },
     "execution_count": 19,
     "metadata": {},
     "output_type": "execute_result"
    }
   ],
   "source": [
    "columnas = prueba2[0,:]\n",
    "columnas"
   ]
  },
  {
   "cell_type": "code",
   "execution_count": 46,
   "metadata": {},
   "outputs": [
    {
     "name": "stdout",
     "output_type": "stream",
     "text": [
      "['Ana' '33' '60' '1.6']\n"
     ]
    }
   ],
   "source": [
    "print(columnas)"
   ]
  },
  {
   "cell_type": "code",
   "execution_count": 21,
   "metadata": {},
   "outputs": [
    {
     "data": {
      "text/plain": [
       "array(['Ana', 'Manuel', 'Daniela', 'Jose', 'Sara'], dtype='<U8')"
      ]
     },
     "execution_count": 21,
     "metadata": {},
     "output_type": "execute_result"
    }
   ],
   "source": [
    "prueba2[1:,0]"
   ]
  },
  {
   "cell_type": "code",
   "execution_count": 25,
   "metadata": {},
   "outputs": [
    {
     "data": {
      "text/plain": [
       "array(['Edad', '33', '38', '29', '25', '40'], dtype='<U8')"
      ]
     },
     "execution_count": 25,
     "metadata": {},
     "output_type": "execute_result"
    }
   ],
   "source": [
    "prueba2[0:,1]"
   ]
  },
  {
   "cell_type": "code",
   "execution_count": 26,
   "metadata": {},
   "outputs": [
    {
     "data": {
      "text/plain": [
       "array(['Peso_kg', '60', '80', '70', '100', '95'], dtype='<U8')"
      ]
     },
     "execution_count": 26,
     "metadata": {},
     "output_type": "execute_result"
    }
   ],
   "source": [
    "prueba2[0:,2]"
   ]
  },
  {
   "cell_type": "code",
   "execution_count": 29,
   "metadata": {},
   "outputs": [
    {
     "data": {
      "text/plain": [
       "array([[ 33.  ,  60.  ,   1.6 ],\n",
       "       [ 38.  ,  80.  ,   1.82],\n",
       "       [ 29.  ,  70.  ,   1.54],\n",
       "       [ 25.  , 100.  ,   1.7 ],\n",
       "       [ 40.  ,  95.  ,   1.75]])"
      ]
     },
     "execution_count": 29,
     "metadata": {},
     "output_type": "execute_result"
    }
   ],
   "source": [
    "datos = np.loadtxt('https://raw.githubusercontent.com/laboratoriolide/new-dimensions/main/Python/prueba2.csv',delimiter=',',skiprows= 1,usecols= [1,2,3])\n",
    "datos"
   ]
  },
  {
   "cell_type": "code",
   "execution_count": 30,
   "metadata": {},
   "outputs": [
    {
     "data": {
      "text/plain": [
       "33.0"
      ]
     },
     "execution_count": 30,
     "metadata": {},
     "output_type": "execute_result"
    }
   ],
   "source": [
    "np.mean(datos[:,0])"
   ]
  },
  {
   "cell_type": "code",
   "execution_count": 34,
   "metadata": {},
   "outputs": [
    {
     "name": "stdout",
     "output_type": "stream",
     "text": [
      "33.0\n",
      "81.0\n",
      "1.682\n"
     ]
    }
   ],
   "source": [
    "for col in np.arange(0,datos.shape[1]):  \n",
    " print(np.mean(datos[:,col]))\n"
   ]
  },
  {
   "cell_type": "code",
   "execution_count": 42,
   "metadata": {},
   "outputs": [
    {
     "name": "stdout",
     "output_type": "stream",
     "text": [
      "31.53333333333333\n",
      "39.94\n",
      "33.513333333333335\n",
      "42.233333333333334\n",
      "45.583333333333336\n"
     ]
    }
   ],
   "source": [
    "for row in np.arange(0,datos.shape[0]):  \n",
    "  print(np.mean(datos[row,:]))"
   ]
  },
  {
   "cell_type": "code",
   "execution_count": 37,
   "metadata": {},
   "outputs": [
    {
     "data": {
      "text/plain": [
       "(5, 3)"
      ]
     },
     "execution_count": 37,
     "metadata": {},
     "output_type": "execute_result"
    }
   ],
   "source": [
    "datos.shape"
   ]
  },
  {
   "cell_type": "code",
   "execution_count": 38,
   "metadata": {},
   "outputs": [
    {
     "data": {
      "text/plain": [
       "5"
      ]
     },
     "execution_count": 38,
     "metadata": {},
     "output_type": "execute_result"
    }
   ],
   "source": [
    "datos.shape[0]"
   ]
  },
  {
   "cell_type": "code",
   "execution_count": 39,
   "metadata": {},
   "outputs": [
    {
     "data": {
      "text/plain": [
       "3"
      ]
     },
     "execution_count": 39,
     "metadata": {},
     "output_type": "execute_result"
    }
   ],
   "source": [
    "datos.shape[1]"
   ]
  },
  {
   "cell_type": "code",
   "execution_count": 43,
   "metadata": {},
   "outputs": [
    {
     "data": {
      "text/plain": [
       "array([33.   , 81.   ,  1.682])"
      ]
     },
     "execution_count": 43,
     "metadata": {},
     "output_type": "execute_result"
    }
   ],
   "source": [
    "#bucles en columnas\n",
    "np.mean(datos,axis=0)"
   ]
  },
  {
   "cell_type": "code",
   "execution_count": 44,
   "metadata": {},
   "outputs": [
    {
     "data": {
      "text/plain": [
       "array([31.53333333, 39.94      , 33.51333333, 42.23333333, 45.58333333])"
      ]
     },
     "execution_count": 44,
     "metadata": {},
     "output_type": "execute_result"
    }
   ],
   "source": [
    "#bucles en filas\n",
    "np.mean(datos,axis=1)"
   ]
  }
 ],
 "metadata": {
  "kernelspec": {
   "display_name": "deberes",
   "language": "python",
   "name": "python3"
  },
  "language_info": {
   "codemirror_mode": {
    "name": "ipython",
    "version": 3
   },
   "file_extension": ".py",
   "mimetype": "text/x-python",
   "name": "python",
   "nbconvert_exporter": "python",
   "pygments_lexer": "ipython3",
   "version": "3.11.5"
  },
  "orig_nbformat": 4
 },
 "nbformat": 4,
 "nbformat_minor": 2
}
